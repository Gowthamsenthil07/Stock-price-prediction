{
 "cells": [
  {
   "cell_type": "code",
   "execution_count": 1,
   "id": "1ced854b",
   "metadata": {},
   "outputs": [
    {
     "name": "stderr",
     "output_type": "stream",
     "text": [
      "C:\\Users\\Gowtham.S\\Desktop\\first_project\\env\\lib\\site-packages\\yfinance\\base.py:48: FutureWarning: The default dtype for empty Series will be 'object' instead of 'float64' in a future version. Specify a dtype explicitly to silence this warning.\n",
      "  _empty_series = pd.Series()\n"
     ]
    }
   ],
   "source": [
    "import numpy as np\n",
    "import pandas as pd\n",
    "import matplotlib.pyplot as plt\n",
    "import yfinance as yf"
   ]
  },
  {
   "cell_type": "code",
   "execution_count": 2,
   "id": "c94896eb",
   "metadata": {},
   "outputs": [],
   "source": [
    "stock = 'TSLA'\n",
    "start = '2012-01-01'\n",
    "end   = '2022-12-21'"
   ]
  },
  {
   "cell_type": "code",
   "execution_count": 3,
   "id": "bc0dc675",
   "metadata": {},
   "outputs": [
    {
     "name": "stderr",
     "output_type": "stream",
     "text": [
      "[*********************100%%**********************]  1 of 1 completed\n"
     ]
    }
   ],
   "source": [
    "data = yf.download(stock, start, end)"
   ]
  },
  {
   "cell_type": "code",
   "execution_count": 4,
   "id": "84ba3661",
   "metadata": {},
   "outputs": [],
   "source": [
    "data.reset_index(inplace=True)"
   ]
  },
  {
   "cell_type": "code",
   "execution_count": 5,
   "id": "535e444e",
   "metadata": {},
   "outputs": [
    {
     "data": {
      "text/html": [
       "<div>\n",
       "<style scoped>\n",
       "    .dataframe tbody tr th:only-of-type {\n",
       "        vertical-align: middle;\n",
       "    }\n",
       "\n",
       "    .dataframe tbody tr th {\n",
       "        vertical-align: top;\n",
       "    }\n",
       "\n",
       "    .dataframe thead th {\n",
       "        text-align: right;\n",
       "    }\n",
       "</style>\n",
       "<table border=\"1\" class=\"dataframe\">\n",
       "  <thead>\n",
       "    <tr style=\"text-align: right;\">\n",
       "      <th></th>\n",
       "      <th>Date</th>\n",
       "      <th>Open</th>\n",
       "      <th>High</th>\n",
       "      <th>Low</th>\n",
       "      <th>Close</th>\n",
       "      <th>Adj Close</th>\n",
       "      <th>Volume</th>\n",
       "    </tr>\n",
       "  </thead>\n",
       "  <tbody>\n",
       "    <tr>\n",
       "      <th>0</th>\n",
       "      <td>2012-01-03</td>\n",
       "      <td>1.929333</td>\n",
       "      <td>1.966667</td>\n",
       "      <td>1.843333</td>\n",
       "      <td>1.872000</td>\n",
       "      <td>1.872000</td>\n",
       "      <td>13921500</td>\n",
       "    </tr>\n",
       "    <tr>\n",
       "      <th>1</th>\n",
       "      <td>2012-01-04</td>\n",
       "      <td>1.880667</td>\n",
       "      <td>1.911333</td>\n",
       "      <td>1.833333</td>\n",
       "      <td>1.847333</td>\n",
       "      <td>1.847333</td>\n",
       "      <td>9451500</td>\n",
       "    </tr>\n",
       "    <tr>\n",
       "      <th>2</th>\n",
       "      <td>2012-01-05</td>\n",
       "      <td>1.850667</td>\n",
       "      <td>1.862000</td>\n",
       "      <td>1.790000</td>\n",
       "      <td>1.808000</td>\n",
       "      <td>1.808000</td>\n",
       "      <td>15082500</td>\n",
       "    </tr>\n",
       "    <tr>\n",
       "      <th>3</th>\n",
       "      <td>2012-01-06</td>\n",
       "      <td>1.813333</td>\n",
       "      <td>1.852667</td>\n",
       "      <td>1.760667</td>\n",
       "      <td>1.794000</td>\n",
       "      <td>1.794000</td>\n",
       "      <td>14794500</td>\n",
       "    </tr>\n",
       "    <tr>\n",
       "      <th>4</th>\n",
       "      <td>2012-01-09</td>\n",
       "      <td>1.800000</td>\n",
       "      <td>1.832667</td>\n",
       "      <td>1.741333</td>\n",
       "      <td>1.816667</td>\n",
       "      <td>1.816667</td>\n",
       "      <td>13455000</td>\n",
       "    </tr>\n",
       "    <tr>\n",
       "      <th>...</th>\n",
       "      <td>...</td>\n",
       "      <td>...</td>\n",
       "      <td>...</td>\n",
       "      <td>...</td>\n",
       "      <td>...</td>\n",
       "      <td>...</td>\n",
       "      <td>...</td>\n",
       "    </tr>\n",
       "    <tr>\n",
       "      <th>2756</th>\n",
       "      <td>2022-12-14</td>\n",
       "      <td>159.250000</td>\n",
       "      <td>161.619995</td>\n",
       "      <td>155.309998</td>\n",
       "      <td>156.800003</td>\n",
       "      <td>156.800003</td>\n",
       "      <td>140682300</td>\n",
       "    </tr>\n",
       "    <tr>\n",
       "      <th>2757</th>\n",
       "      <td>2022-12-15</td>\n",
       "      <td>153.440002</td>\n",
       "      <td>160.929993</td>\n",
       "      <td>153.279999</td>\n",
       "      <td>157.669998</td>\n",
       "      <td>157.669998</td>\n",
       "      <td>122334500</td>\n",
       "    </tr>\n",
       "    <tr>\n",
       "      <th>2758</th>\n",
       "      <td>2022-12-16</td>\n",
       "      <td>159.639999</td>\n",
       "      <td>160.990005</td>\n",
       "      <td>150.039993</td>\n",
       "      <td>150.229996</td>\n",
       "      <td>150.229996</td>\n",
       "      <td>139032200</td>\n",
       "    </tr>\n",
       "    <tr>\n",
       "      <th>2759</th>\n",
       "      <td>2022-12-19</td>\n",
       "      <td>154.000000</td>\n",
       "      <td>155.250000</td>\n",
       "      <td>145.820007</td>\n",
       "      <td>149.869995</td>\n",
       "      <td>149.869995</td>\n",
       "      <td>139390600</td>\n",
       "    </tr>\n",
       "    <tr>\n",
       "      <th>2760</th>\n",
       "      <td>2022-12-20</td>\n",
       "      <td>146.050003</td>\n",
       "      <td>148.470001</td>\n",
       "      <td>137.660004</td>\n",
       "      <td>137.800003</td>\n",
       "      <td>137.800003</td>\n",
       "      <td>159563300</td>\n",
       "    </tr>\n",
       "  </tbody>\n",
       "</table>\n",
       "<p>2761 rows × 7 columns</p>\n",
       "</div>"
      ],
      "text/plain": [
       "           Date        Open        High         Low       Close   Adj Close  \\\n",
       "0    2012-01-03    1.929333    1.966667    1.843333    1.872000    1.872000   \n",
       "1    2012-01-04    1.880667    1.911333    1.833333    1.847333    1.847333   \n",
       "2    2012-01-05    1.850667    1.862000    1.790000    1.808000    1.808000   \n",
       "3    2012-01-06    1.813333    1.852667    1.760667    1.794000    1.794000   \n",
       "4    2012-01-09    1.800000    1.832667    1.741333    1.816667    1.816667   \n",
       "...         ...         ...         ...         ...         ...         ...   \n",
       "2756 2022-12-14  159.250000  161.619995  155.309998  156.800003  156.800003   \n",
       "2757 2022-12-15  153.440002  160.929993  153.279999  157.669998  157.669998   \n",
       "2758 2022-12-16  159.639999  160.990005  150.039993  150.229996  150.229996   \n",
       "2759 2022-12-19  154.000000  155.250000  145.820007  149.869995  149.869995   \n",
       "2760 2022-12-20  146.050003  148.470001  137.660004  137.800003  137.800003   \n",
       "\n",
       "         Volume  \n",
       "0      13921500  \n",
       "1       9451500  \n",
       "2      15082500  \n",
       "3      14794500  \n",
       "4      13455000  \n",
       "...         ...  \n",
       "2756  140682300  \n",
       "2757  122334500  \n",
       "2758  139032200  \n",
       "2759  139390600  \n",
       "2760  159563300  \n",
       "\n",
       "[2761 rows x 7 columns]"
      ]
     },
     "execution_count": 5,
     "metadata": {},
     "output_type": "execute_result"
    }
   ],
   "source": [
    "data"
   ]
  },
  {
   "cell_type": "code",
   "execution_count": 6,
   "id": "e58d3493",
   "metadata": {},
   "outputs": [],
   "source": [
    "ma_100_days = data.Close.rolling(100).mean()"
   ]
  },
  {
   "cell_type": "code",
   "execution_count": 7,
   "id": "42c7a2c6",
   "metadata": {},
   "outputs": [
    {
     "data": {
      "image/png": "[encoded data removed]",
      "text/plain": [
       "<Figure size 800x600 with 1 Axes>"
      ]
     },
     "metadata": {},
     "output_type": "display_data"
    }
   ],
   "source": [
    "plt.figure(figsize=(8,6))\n",
    "plt.plot(ma_100_days, 'r')\n",
    "plt.plot(data.Close, 'g')\n",
    "plt.show()"
   ]
  },
  {
   "cell_type": "code",
   "execution_count": 8,
   "id": "bfc11221",
   "metadata": {},
   "outputs": [],
   "source": [
    "ma_200_days = data.Close.rolling(200).mean()"
   ]
  },
  {
   "cell_type": "code",
   "execution_count": 9,
   "id": "2db5693f",
   "metadata": {},
   "outputs": [
    {
     "data": {
      "image/png": "[encoded data removed]",
      "text/plain": [
       "<Figure size 800x600 with 1 Axes>"
      ]
     },
     "metadata": {},
     "output_type": "display_data"
    }
   ],
   "source": [
    "plt.figure(figsize=(8,6))\n",
    "plt.plot(ma_100_days, 'r')\n",
    "plt.plot(ma_200_days,'b')\n",
    "plt.plot(data.Close,'g')\n",
    "plt.show()"
   ]
  },
  {
   "cell_type": "code",
   "execution_count": 10,
   "id": "553dd6a9",
   "metadata": {},
   "outputs": [],
   "source": [
    "data.dropna(inplace=True)"
   ]
  },
  {
   "cell_type": "code",
   "execution_count": 11,
   "id": "04442dbf",
   "metadata": {},
   "outputs": [],
   "source": [
    "data_train = pd.DataFrame(data.Close[0: int(len(data)*0.80)])\n",
    "data_test = pd.DataFrame(data.Close[int(len(data)*0.80): len(data)])"
   ]
  },
  {
   "cell_type": "code",
   "execution_count": 12,
   "id": "d69e3dad",
   "metadata": {},
   "outputs": [
    {
     "data": {
      "text/plain": [
       "2208"
      ]
     },
     "execution_count": 12,
     "metadata": {},
     "output_type": "execute_result"
    }
   ],
   "source": [
    "data_train.shape[0]"
   ]
  },
  {
   "cell_type": "code",
   "execution_count": 13,
   "id": "e640ecab",
   "metadata": {},
   "outputs": [
    {
     "data": {
      "text/plain": [
       "553"
      ]
     },
     "execution_count": 13,
     "metadata": {},
     "output_type": "execute_result"
    }
   ],
   "source": [
    "data_test.shape[0]"
   ]
  },
  {
   "cell_type": "code",
   "execution_count": 14,
   "id": "55cf593a",
   "metadata": {},
   "outputs": [],
   "source": [
    "from sklearn.preprocessing import MinMaxScaler\n",
    "scaler = MinMaxScaler(feature_range=(0,1))"
   ]
  },
  {
   "cell_type": "code",
   "execution_count": 15,
   "id": "2f8d1e04",
   "metadata": {},
   "outputs": [],
   "source": [
    "data_train_scale = scaler.fit_transform(data_train)"
   ]
  },
  {
   "cell_type": "code",
   "execution_count": 16,
   "id": "f813f113",
   "metadata": {},
   "outputs": [],
   "source": [
    "x = []\n",
    "y = []\n",
    "\n",
    "for i in range(100, data_train_scale.shape[0]):\n",
    "    x.append(data_train_scale[i-100:i])\n",
    "    y.append(data_train_scale[i,0])"
   ]
  },
  {
   "cell_type": "code",
   "execution_count": 17,
   "id": "62a6cb94",
   "metadata": {},
   "outputs": [],
   "source": [
    "x, y = np.array(x), np.array(y)"
   ]
  },
  {
   "cell_type": "code",
   "execution_count": 49,
   "id": "795f042c",
   "metadata": {},
   "outputs": [],
   "source": [
    "from keras.layers import Dense, Dropout, LSTM\n",
    "from keras.models import Sequential"
   ]
  },
  {
   "cell_type": "code",
   "execution_count": 50,
   "id": "abddf280",
   "metadata": {},
   "outputs": [],
   "source": [
    "model = Sequential()\n",
    "model.add(LSTM(units = 50, activation = 'relu', return_sequences = True,\n",
    "               input_shape = ((x.shape[1],1))))\n",
    "model.add(Dropout(0.2))\n",
    "\n",
    "model.add(LSTM(units = 60, activation='relu', return_sequences = True))\n",
    "model.add(Dropout(0.3))\n",
    "\n",
    "model.add(LSTM(units = 80, activation = 'relu', return_sequences = True))\n",
    "model.add(Dropout(0.4))\n",
    "\n",
    "model.add(LSTM(units = 120, activation = 'relu'))\n",
    "model.add(Dropout(0.5))\n",
    "\n",
    "model.add(Dense(units =1))"
   ]
  },
  {
   "cell_type": "code",
   "execution_count": 51,
   "id": "f5f39689",
   "metadata": {},
   "outputs": [],
   "source": [
    "model.compile(optimizer = 'adam', loss = 'mean_squared_error')"
   ]
  },
  {
   "cell_type": "code",
   "execution_count": null,
   "id": "8766ee0b",
   "metadata": {},
   "outputs": [
    {
     "name": "stdout",
     "output_type": "stream",
     "text": [
      "Epoch 1/50\n",
      "66/66 [==============================] - 42s 436ms/step - loss: 0.0439\n",
      "Epoch 2/50\n",
      "66/66 [==============================] - 29s 435ms/step - loss: 0.0112\n",
      "Epoch 3/50\n",
      "66/66 [==============================] - 28s 429ms/step - loss: 0.0092\n",
      "Epoch 4/50\n",
      "66/66 [==============================] - 28s 428ms/step - loss: 0.0083\n",
      "Epoch 5/50\n",
      "66/66 [==============================] - 29s 443ms/step - loss: 0.0082\n",
      "Epoch 6/50\n",
      "66/66 [==============================] - 29s 441ms/step - loss: 0.0081\n",
      "Epoch 7/50\n",
      "66/66 [==============================] - 29s 439ms/step - loss: 0.0070\n",
      "Epoch 8/50\n",
      "66/66 [==============================] - 29s 434ms/step - loss: 0.0064\n",
      "Epoch 9/50\n",
      "66/66 [==============================] - 29s 440ms/step - loss: 0.0064\n",
      "Epoch 10/50\n",
      "66/66 [==============================] - 28s 432ms/step - loss: 0.0061\n",
      "Epoch 11/50\n",
      "66/66 [==============================] - 29s 439ms/step - loss: 0.0057\n",
      "Epoch 12/50\n",
      "66/66 [==============================] - 29s 447ms/step - loss: 0.0052\n",
      "Epoch 13/50\n",
      "66/66 [==============================] - 29s 437ms/step - loss: 0.0064\n",
      "Epoch 14/50\n",
      "66/66 [==============================] - 30s 452ms/step - loss: 0.0060\n",
      "Epoch 15/50\n",
      "66/66 [==============================] - 29s 436ms/step - loss: 0.0055\n",
      "Epoch 16/50\n",
      "66/66 [==============================] - 29s 436ms/step - loss: 0.0051\n",
      "Epoch 17/50\n",
      "66/66 [==============================] - 29s 437ms/step - loss: 0.0046\n",
      "Epoch 18/50\n",
      "66/66 [==============================] - 29s 438ms/step - loss: 0.0047\n",
      "Epoch 19/50\n",
      "66/66 [==============================] - 29s 434ms/step - loss: 0.0043\n",
      "Epoch 20/50\n",
      "66/66 [==============================] - 29s 433ms/step - loss: 0.0045\n",
      "Epoch 21/50\n",
      "66/66 [==============================] - 29s 437ms/step - loss: 0.0044\n",
      "Epoch 22/50\n",
      "66/66 [==============================] - 29s 442ms/step - loss: 0.0042\n",
      "Epoch 23/50\n",
      "66/66 [==============================] - 29s 445ms/step - loss: 0.0042\n",
      "Epoch 24/50\n",
      "66/66 [==============================] - 29s 437ms/step - loss: 0.0039\n",
      "Epoch 25/50\n",
      "66/66 [==============================] - 29s 433ms/step - loss: 0.0040\n",
      "Epoch 26/50\n",
      "66/66 [==============================] - 29s 440ms/step - loss: 0.0039\n",
      "Epoch 27/50\n",
      "66/66 [==============================] - 29s 434ms/step - loss: 0.0041\n",
      "Epoch 28/50\n",
      "66/66 [==============================] - 29s 433ms/step - loss: 0.0035\n",
      "Epoch 29/50\n",
      "66/66 [==============================] - 29s 433ms/step - loss: 0.0036\n",
      "Epoch 30/50\n",
      "66/66 [==============================] - 29s 436ms/step - loss: 0.0038\n",
      "Epoch 31/50\n",
      "66/66 [==============================] - 29s 442ms/step - loss: 0.0038\n",
      "Epoch 32/50\n",
      "66/66 [==============================] - 29s 440ms/step - loss: 0.0034\n",
      "Epoch 33/50\n",
      "66/66 [==============================] - 28s 431ms/step - loss: 0.0034\n",
      "Epoch 34/50\n",
      "66/66 [==============================] - 29s 436ms/step - loss: 0.0036\n",
      "Epoch 35/50\n",
      "66/66 [==============================] - 29s 432ms/step - loss: 0.0034\n",
      "Epoch 36/50\n",
      "66/66 [==============================] - 29s 433ms/step - loss: 0.0033\n",
      "Epoch 37/50\n",
      "66/66 [==============================] - 28s 429ms/step - loss: 0.0034\n",
      "Epoch 38/50\n",
      "66/66 [==============================] - 29s 433ms/step - loss: 0.0033\n",
      "Epoch 39/50\n",
      "66/66 [==============================] - 29s 438ms/step - loss: 0.0035\n",
      "Epoch 40/50\n",
      "66/66 [==============================] - 29s 440ms/step - loss: 0.0033\n",
      "Epoch 41/50\n",
      "66/66 [==============================] - 29s 439ms/step - loss: 0.0032\n",
      "Epoch 42/50\n",
      "66/66 [==============================] - 29s 439ms/step - loss: 0.0033\n",
      "Epoch 43/50\n",
      "66/66 [==============================] - 29s 437ms/step - loss: 0.0033\n",
      "Epoch 44/50\n",
      "66/66 [==============================] - 29s 437ms/step - loss: 0.0031\n",
      "Epoch 45/50\n",
      "66/66 [==============================] - 30s 451ms/step - loss: 0.0033\n",
      "Epoch 46/50\n",
      "66/66 [==============================] - 29s 447ms/step - loss: 0.0033\n",
      "Epoch 47/50\n",
      "66/66 [==============================] - 30s 451ms/step - loss: 0.0032\n",
      "Epoch 48/50\n",
      "48/66 [====================>.........] - ETA: 8s - loss: 0.0032"
     ]
    }
   ],
   "source": [
    "model.fit(x,y, epochs = 50, batch_size =32, verbose =1)"
   ]
  },
  {
   "cell_type": "code",
   "execution_count": null,
   "id": "c196be04",
   "metadata": {},
   "outputs": [],
   "source": [
    "model.summary()"
   ]
  },
  {
   "cell_type": "code",
   "execution_count": null,
   "id": "2fa1473c",
   "metadata": {},
   "outputs": [],
   "source": [
    "pas_100_days = data_train.tail(100)"
   ]
  },
  {
   "cell_type": "code",
   "execution_count": null,
   "id": "6a46280c",
   "metadata": {},
   "outputs": [],
   "source": [
    "data_test = pd.concat([pas_100_days, data_test], ignore_index=True)"
   ]
  },
  {
   "cell_type": "code",
   "execution_count": null,
   "id": "b042ceb8",
   "metadata": {},
   "outputs": [],
   "source": [
    "data_test_scale  =  scaler.fit_transform(data_test)"
   ]
  },
  {
   "cell_type": "code",
   "execution_count": null,
   "id": "09d8af4b",
   "metadata": {},
   "outputs": [],
   "source": [
    "x = []\n",
    "y = []\n",
    "\n",
    "for i in range(100, data_test_scale.shape[0]):\n",
    "    x.append(data_test_scale[i-100:i])\n",
    "    y.append(data_test_scale[i,0])\n",
    "x, y = np.array(x), np.array(y)"
   ]
  },
  {
   "cell_type": "code",
   "execution_count": null,
   "id": "f9aeb08c",
   "metadata": {},
   "outputs": [],
   "source": [
    "y_predict = model.predict(x)"
   ]
  },
  {
   "cell_type": "code",
   "execution_count": null,
   "id": "8b869bc0",
   "metadata": {},
   "outputs": [],
   "source": [
    "scale =1/scaler.scale_"
   ]
  },
  {
   "cell_type": "code",
   "execution_count": null,
   "id": "8879e39f",
   "metadata": {},
   "outputs": [],
   "source": [
    "y_predict = y_predict*scale"
   ]
  },
  {
   "cell_type": "code",
   "execution_count": null,
   "id": "73ed2b38",
   "metadata": {},
   "outputs": [],
   "source": [
    "y = y*scale"
   ]
  },
  {
   "cell_type": "code",
   "execution_count": null,
   "id": "0c747660",
   "metadata": {},
   "outputs": [],
   "source": [
    "plt.figure(figsize=(10,8))\n",
    "plt.plot(y_predict, 'r', label = 'Predicted Price')\n",
    "plt.plot(y, 'g', label = 'Original Price')\n",
    "plt.xlabel('Time')\n",
    "plt.ylabel('Price')\n",
    "plt.legend()\n",
    "plt.show()"
   ]
  },
  {
   "cell_type": "code",
   "execution_count": null,
   "id": "37ce2f83",
   "metadata": {},
   "outputs": [],
   "source": []
  },
  {
   "cell_type": "code",
   "execution_count": null,
   "id": "5c9bc105",
   "metadata": {},
   "outputs": [],
   "source": []
  },
  {
   "cell_type": "code",
   "execution_count": null,
   "id": "e8132c83",
   "metadata": {},
   "outputs": [],
   "source": []
  },
  {
   "cell_type": "code",
   "execution_count": null,
   "id": "0a7c122e",
   "metadata": {},
   "outputs": [],
   "source": []
  },
  {
   "cell_type": "code",
   "execution_count": null,
   "id": "c0e562b8",
   "metadata": {},
   "outputs": [],
   "source": []
  }
 ],
 "metadata": {
  "kernelspec": {
   "display_name": "Python 3 (ipykernel)",
   "language": "python",
   "name": "python3"
  },
  "language_info": {
   "codemirror_mode": {
    "name": "ipython",
    "version": 3
   },
   "file_extension": ".py",
   "mimetype": "text/x-python",
   "name": "python",
   "nbconvert_exporter": "python",
   "pygments_lexer": "ipython3",
   "version": "3.10.12"
  }
 },
 "nbformat": 4,
 "nbformat_minor": 5
}
